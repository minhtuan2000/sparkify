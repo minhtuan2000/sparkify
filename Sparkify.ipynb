{
 "cells": [
  {
   "cell_type": "code",
   "execution_count": 1,
   "metadata": {},
   "outputs": [
    {
     "name": "stdout",
     "output_type": "stream",
     "text": [
      "Waiting for a Spark session to start...\n",
      "Spark Initialization Done! ApplicationId = app-20201108094221-0000\n",
      "KERNEL_ID = 6a1883e7-62ae-471f-b3e0-81529fd3eaeb\n"
     ]
    }
   ],
   "source": [
    "\n",
    "import ibmos2spark\n",
    "# @hidden_cell\n",
    "credentials = {\n",
    "    'endpoint': 'https://s3-api.us-geo.objectstorage.service.networklayer.com',\n",
    "    'service_id': 'iam-ServiceId-1724429a-5662-4eb9-a498-0bb0e769f419',\n",
    "    'iam_service_endpoint': 'https://iam.cloud.ibm.com/oidc/token',\n",
    "    'api_key': 'KFZoxNKPxKTd-ufP2fqin9YlWHzFI6MkuPQ-aPnKUmqP'\n",
    "}\n",
    "\n",
    "configuration_name = 'os_4cc7f61928664fa58a27607fdea2ec58_configs'\n",
    "bucket_name = 'sparkify-donotdelete-pr-ncltm2mqnxphqq'\n",
    "cos = ibmos2spark.CloudObjectStorage(sc, credentials, configuration_name, 'bluemix_cos')\n",
    "\n",
    "from pyspark.sql import SparkSession\n",
    "spark = SparkSession.builder.getOrCreate()\n"
   ]
  },
  {
   "cell_type": "code",
   "execution_count": 2,
   "metadata": {},
   "outputs": [],
   "source": [
    "import numpy as np\n",
    "import pandas as pd\n",
    "import matplotlib.pyplot as plt\n",
    "import seaborn as sns\n",
    "\n",
    "import pyspark.sql.functions as F\n",
    "from pyspark.sql.types import IntegerType\n",
    "from pyspark.storagelevel import StorageLevel\n",
    "from pyspark.ml import Pipeline\n",
    "from pyspark.ml.feature import VectorAssembler, StandardScaler\n",
    "from pyspark.ml.classification import RandomForestClassifier, LinearSVC, LogisticRegression\n",
    "from pyspark.ml.tuning import CrossValidator, ParamGridBuilder\n",
    "from pyspark.ml.evaluation import MulticlassClassificationEvaluator"
   ]
  },
  {
   "cell_type": "markdown",
   "metadata": {},
   "source": [
    "Note that we will be using `.persist(StorageLevel.MEMORY_ONLY)` for high performance in this notebook because our dataset sizes are small enough to be saved in memory."
   ]
  },
  {
   "cell_type": "code",
   "execution_count": 3,
   "metadata": {},
   "outputs": [
    {
     "data": {
      "text/plain": [
       "[Row(artist='Martin Orford', auth='Logged In', firstName='Joseph', gender='M', itemInSession=20, lastName='Morales', length=597.55057, level='free', location='Corpus Christi, TX', method='PUT', page='NextSong', registration=1532063507000, sessionId=292, song='Grand Designs', status=200, ts=1538352011000, userAgent='\"Mozilla/5.0 (Macintosh; Intel Mac OS X 10_9_4) AppleWebKit/537.36 (KHTML, like Gecko) Chrome/36.0.1985.125 Safari/537.36\"', userId='293'),\n",
       " Row(artist=\"John Brown's Body\", auth='Logged In', firstName='Sawyer', gender='M', itemInSession=74, lastName='Larson', length=380.21179, level='free', location='Houston-The Woodlands-Sugar Land, TX', method='PUT', page='NextSong', registration=1538069638000, sessionId=97, song='Bulls', status=200, ts=1538352025000, userAgent='\"Mozilla/5.0 (Macintosh; Intel Mac OS X 10_9_4) AppleWebKit/537.36 (KHTML, like Gecko) Chrome/36.0.1985.143 Safari/537.36\"', userId='98'),\n",
       " Row(artist='Afroman', auth='Logged In', firstName='Maverick', gender='M', itemInSession=184, lastName='Santiago', length=202.37016, level='paid', location='Orlando-Kissimmee-Sanford, FL', method='PUT', page='NextSong', registration=1535953455000, sessionId=178, song='Because I Got High', status=200, ts=1538352118000, userAgent='\"Mozilla/5.0 (Macintosh; Intel Mac OS X 10_9_4) AppleWebKit/537.36 (KHTML, like Gecko) Chrome/36.0.1985.143 Safari/537.36\"', userId='179'),\n",
       " Row(artist=None, auth='Logged In', firstName='Maverick', gender='M', itemInSession=185, lastName='Santiago', length=None, level='paid', location='Orlando-Kissimmee-Sanford, FL', method='PUT', page='Logout', registration=1535953455000, sessionId=178, song=None, status=307, ts=1538352119000, userAgent='\"Mozilla/5.0 (Macintosh; Intel Mac OS X 10_9_4) AppleWebKit/537.36 (KHTML, like Gecko) Chrome/36.0.1985.143 Safari/537.36\"', userId='179'),\n",
       " Row(artist='Lily Allen', auth='Logged In', firstName='Gianna', gender='F', itemInSession=22, lastName='Campos', length=194.53342, level='paid', location='Mobile, AL', method='PUT', page='NextSong', registration=1535931018000, sessionId=245, song='Smile (Radio Edit)', status=200, ts=1538352124000, userAgent='Mozilla/5.0 (Windows NT 6.1; WOW64; rv:31.0) Gecko/20100101 Firefox/31.0', userId='246')]"
      ]
     },
     "execution_count": 3,
     "metadata": {},
     "output_type": "execute_result"
    }
   ],
   "source": [
    "df = spark.read.json(cos.url('medium-sparkify-event-data.json', bucket_name)).persist(StorageLevel.MEMORY_ONLY)\n",
    "df.take(5)"
   ]
  },
  {
   "cell_type": "code",
   "execution_count": 4,
   "metadata": {},
   "outputs": [
    {
     "data": {
      "text/plain": [
       "543705"
      ]
     },
     "execution_count": 4,
     "metadata": {},
     "output_type": "execute_result"
    }
   ],
   "source": [
    "df.count()"
   ]
  },
  {
   "cell_type": "code",
   "execution_count": 5,
   "metadata": {},
   "outputs": [
    {
     "name": "stdout",
     "output_type": "stream",
     "text": [
      "root\n",
      " |-- artist: string (nullable = true)\n",
      " |-- auth: string (nullable = true)\n",
      " |-- firstName: string (nullable = true)\n",
      " |-- gender: string (nullable = true)\n",
      " |-- itemInSession: long (nullable = true)\n",
      " |-- lastName: string (nullable = true)\n",
      " |-- length: double (nullable = true)\n",
      " |-- level: string (nullable = true)\n",
      " |-- location: string (nullable = true)\n",
      " |-- method: string (nullable = true)\n",
      " |-- page: string (nullable = true)\n",
      " |-- registration: long (nullable = true)\n",
      " |-- sessionId: long (nullable = true)\n",
      " |-- song: string (nullable = true)\n",
      " |-- status: long (nullable = true)\n",
      " |-- ts: long (nullable = true)\n",
      " |-- userAgent: string (nullable = true)\n",
      " |-- userId: string (nullable = true)\n",
      "\n"
     ]
    }
   ],
   "source": [
    "df.printSchema()"
   ]
  },
  {
   "cell_type": "code",
   "execution_count": 6,
   "metadata": {},
   "outputs": [
    {
     "name": "stdout",
     "output_type": "stream",
     "text": [
      "+-------+------------------+------------------+--------------------+------------------+\n",
      "|summary|            length|         sessionId|                  ts|            userId|\n",
      "+-------+------------------+------------------+--------------------+------------------+\n",
      "|  count|            432877|            543705|              543705|            543705|\n",
      "|   mean|248.66459278007738|2040.8143533717732|1.540964541209800...| 60268.42669103512|\n",
      "| stddev| 98.41266955051972| 1434.338931078271|1.4820571449105084E9|109898.82324176628|\n",
      "|    min|           0.78322|                 1|       1538352011000|                  |\n",
      "|    max|        3024.66567|              4808|       1543622466000|                99|\n",
      "+-------+------------------+------------------+--------------------+------------------+\n",
      "\n"
     ]
    }
   ],
   "source": [
    "df.describe(['length', 'sessionId', 'ts', 'userId']).show()"
   ]
  },
  {
   "cell_type": "markdown",
   "metadata": {},
   "source": [
    "Let's take a look at the number of unique values in each columns"
   ]
  },
  {
   "cell_type": "code",
   "execution_count": 7,
   "metadata": {
    "scrolled": true
   },
   "outputs": [
    {
     "name": "stdout",
     "output_type": "stream",
     "text": [
      "+----------------------+\n",
      "|count(DISTINCT artist)|\n",
      "+----------------------+\n",
      "|                 21247|\n",
      "+----------------------+\n",
      "\n"
     ]
    }
   ],
   "source": [
    "df.select(F.countDistinct(\"artist\")).show()"
   ]
  },
  {
   "cell_type": "code",
   "execution_count": 8,
   "metadata": {},
   "outputs": [
    {
     "name": "stdout",
     "output_type": "stream",
     "text": [
      "+--------------------+\n",
      "|count(DISTINCT song)|\n",
      "+--------------------+\n",
      "|               80292|\n",
      "+--------------------+\n",
      "\n"
     ]
    }
   ],
   "source": [
    "df.select(F.countDistinct(\"song\")).show()"
   ]
  },
  {
   "cell_type": "code",
   "execution_count": 9,
   "metadata": {},
   "outputs": [
    {
     "name": "stdout",
     "output_type": "stream",
     "text": [
      "+----------------------+\n",
      "|count(DISTINCT userId)|\n",
      "+----------------------+\n",
      "|                   449|\n",
      "+----------------------+\n",
      "\n"
     ]
    }
   ],
   "source": [
    "df.select(F.countDistinct(\"userId\")).show()"
   ]
  },
  {
   "cell_type": "code",
   "execution_count": 10,
   "metadata": {},
   "outputs": [
    {
     "name": "stdout",
     "output_type": "stream",
     "text": [
      "+------+-----+\n",
      "|userId|count|\n",
      "+------+-----+\n",
      "|      |15700|\n",
      "|    92| 9767|\n",
      "|   140| 7448|\n",
      "|300049| 7309|\n",
      "|   101| 6842|\n",
      "|300035| 6810|\n",
      "|   195| 6184|\n",
      "|   230| 6019|\n",
      "|   163| 5965|\n",
      "|   250| 5678|\n",
      "|    18| 5511|\n",
      "|   276| 5346|\n",
      "|300017| 5266|\n",
      "|    87| 5243|\n",
      "|   293| 5125|\n",
      "|300021| 5076|\n",
      "|    42| 4952|\n",
      "|300011| 4816|\n",
      "|    30| 4737|\n",
      "|    12| 4232|\n",
      "+------+-----+\n",
      "only showing top 20 rows\n",
      "\n"
     ]
    }
   ],
   "source": [
    "df.groupBy([\"userId\"]).count().orderBy(\"count\", ascending=False).show()"
   ]
  },
  {
   "cell_type": "code",
   "execution_count": 11,
   "metadata": {},
   "outputs": [
    {
     "name": "stdout",
     "output_type": "stream",
     "text": [
      "+-------------------------+\n",
      "|count(DISTINCT sessionId)|\n",
      "+-------------------------+\n",
      "|                     4590|\n",
      "+-------------------------+\n",
      "\n"
     ]
    }
   ],
   "source": [
    "df.select(F.countDistinct(\"sessionId\")).show()"
   ]
  },
  {
   "cell_type": "code",
   "execution_count": 12,
   "metadata": {},
   "outputs": [
    {
     "name": "stdout",
     "output_type": "stream",
     "text": [
      "+---------+-----+\n",
      "|sessionId|count|\n",
      "+---------+-----+\n",
      "|     1052| 1006|\n",
      "|     2860|  926|\n",
      "|     3425|  899|\n",
      "|     4131|  885|\n",
      "|      477|  837|\n",
      "|     2470|  816|\n",
      "|      836|  788|\n",
      "|     3513|  778|\n",
      "|     3821|  754|\n",
      "|      356|  748|\n",
      "|     2580|  723|\n",
      "|     3097|  722|\n",
      "|     3261|  716|\n",
      "|      286|  714|\n",
      "|      694|  713|\n",
      "|      598|  708|\n",
      "|     3442|  689|\n",
      "|     1802|  686|\n",
      "|     3328|  678|\n",
      "|      999|  674|\n",
      "+---------+-----+\n",
      "only showing top 20 rows\n",
      "\n"
     ]
    }
   ],
   "source": [
    "df.groupBy([\"sessionId\"]).count().orderBy(\"count\", ascending=False).show()"
   ]
  },
  {
   "cell_type": "code",
   "execution_count": 13,
   "metadata": {},
   "outputs": [
    {
     "name": "stdout",
     "output_type": "stream",
     "text": [
      "+----------+------+\n",
      "|      auth| count|\n",
      "+----------+------+\n",
      "| Logged In|527906|\n",
      "|Logged Out| 15606|\n",
      "| Cancelled|    99|\n",
      "|     Guest|    94|\n",
      "+----------+------+\n",
      "\n"
     ]
    }
   ],
   "source": [
    "df.groupBy([\"auth\"]).count().orderBy(\"count\", ascending=False).show()"
   ]
  },
  {
   "cell_type": "code",
   "execution_count": 14,
   "metadata": {},
   "outputs": [
    {
     "name": "stdout",
     "output_type": "stream",
     "text": [
      "+-----+------+\n",
      "|level| count|\n",
      "+-----+------+\n",
      "| paid|428597|\n",
      "| free|115108|\n",
      "+-----+------+\n",
      "\n"
     ]
    }
   ],
   "source": [
    "df.groupBy([\"level\"]).count().orderBy(\"count\", ascending=False).show()"
   ]
  },
  {
   "cell_type": "code",
   "execution_count": 15,
   "metadata": {},
   "outputs": [
    {
     "name": "stdout",
     "output_type": "stream",
     "text": [
      "+------+------+\n",
      "|method| count|\n",
      "+------+------+\n",
      "|   PUT|495143|\n",
      "|   GET| 48562|\n",
      "+------+------+\n",
      "\n"
     ]
    }
   ],
   "source": [
    "df.groupBy([\"method\"]).count().orderBy(\"count\", ascending=False).show()"
   ]
  },
  {
   "cell_type": "code",
   "execution_count": 16,
   "metadata": {},
   "outputs": [
    {
     "name": "stdout",
     "output_type": "stream",
     "text": [
      "+--------------------+\n",
      "|count(DISTINCT page)|\n",
      "+--------------------+\n",
      "|                  22|\n",
      "+--------------------+\n",
      "\n"
     ]
    }
   ],
   "source": [
    "df.select(F.countDistinct(\"page\")).show()"
   ]
  },
  {
   "cell_type": "code",
   "execution_count": 17,
   "metadata": {},
   "outputs": [
    {
     "name": "stdout",
     "output_type": "stream",
     "text": [
      "+--------------------+------+\n",
      "|                page| count|\n",
      "+--------------------+------+\n",
      "|            NextSong|432877|\n",
      "|                Home| 27412|\n",
      "|           Thumbs Up| 23826|\n",
      "|     Add to Playlist| 12349|\n",
      "|          Add Friend|  8087|\n",
      "|         Roll Advert|  7773|\n",
      "|               Login|  6011|\n",
      "|              Logout|  5990|\n",
      "|         Thumbs Down|  4911|\n",
      "|           Downgrade|  3811|\n",
      "|                Help|  3150|\n",
      "|            Settings|  2964|\n",
      "|               About|  1855|\n",
      "|             Upgrade|   968|\n",
      "|       Save Settings|   585|\n",
      "|               Error|   519|\n",
      "|      Submit Upgrade|   287|\n",
      "|    Submit Downgrade|   117|\n",
      "|              Cancel|    99|\n",
      "|Cancellation Conf...|    99|\n",
      "|            Register|    11|\n",
      "| Submit Registration|     4|\n",
      "+--------------------+------+\n",
      "\n"
     ]
    }
   ],
   "source": [
    "df.groupBy([\"page\"]).count().orderBy(\"count\", ascending=False).show(n=30)"
   ]
  },
  {
   "cell_type": "code",
   "execution_count": 18,
   "metadata": {},
   "outputs": [
    {
     "name": "stdout",
     "output_type": "stream",
     "text": [
      "+------+--------------------+------+\n",
      "|method|                page| count|\n",
      "+------+--------------------+------+\n",
      "|   PUT|            NextSong|432877|\n",
      "|   GET|                Home| 27412|\n",
      "|   PUT|           Thumbs Up| 23826|\n",
      "|   PUT|     Add to Playlist| 12349|\n",
      "|   PUT|          Add Friend|  8087|\n",
      "|   GET|         Roll Advert|  7773|\n",
      "|   PUT|               Login|  6011|\n",
      "|   PUT|              Logout|  5990|\n",
      "|   PUT|         Thumbs Down|  4911|\n",
      "|   GET|           Downgrade|  3811|\n",
      "|   GET|                Help|  3150|\n",
      "|   GET|            Settings|  2964|\n",
      "|   GET|               About|  1855|\n",
      "|   GET|             Upgrade|   968|\n",
      "|   PUT|       Save Settings|   585|\n",
      "|   GET|               Error|   519|\n",
      "|   PUT|      Submit Upgrade|   287|\n",
      "|   PUT|    Submit Downgrade|   117|\n",
      "|   PUT|              Cancel|    99|\n",
      "|   GET|Cancellation Conf...|    99|\n",
      "|   GET|            Register|    11|\n",
      "|   PUT| Submit Registration|     4|\n",
      "+------+--------------------+------+\n",
      "\n"
     ]
    }
   ],
   "source": [
    "df.groupBy([\"method\", \"page\"]).count().orderBy(\"count\", ascending=False).show(n=30)"
   ]
  },
  {
   "cell_type": "markdown",
   "metadata": {},
   "source": [
    "Observe that:\n",
    "\n",
    "- `userId` has missing values\n",
    "- `method` depends totally on `page`\n",
    "- There are 3811 `Downgrade` but only 117 `Submit Downgrade` and 99 `Cancel` "
   ]
  },
  {
   "cell_type": "markdown",
   "metadata": {},
   "source": [
    "# Clean Dataset"
   ]
  },
  {
   "cell_type": "markdown",
   "metadata": {},
   "source": [
    "First, check for missing data"
   ]
  },
  {
   "cell_type": "code",
   "execution_count": 19,
   "metadata": {},
   "outputs": [
    {
     "data": {
      "text/html": [
       "<div>\n",
       "<style scoped>\n",
       "    .dataframe tbody tr th:only-of-type {\n",
       "        vertical-align: middle;\n",
       "    }\n",
       "\n",
       "    .dataframe tbody tr th {\n",
       "        vertical-align: top;\n",
       "    }\n",
       "\n",
       "    .dataframe thead th {\n",
       "        text-align: right;\n",
       "    }\n",
       "</style>\n",
       "<table border=\"1\" class=\"dataframe\">\n",
       "  <thead>\n",
       "    <tr style=\"text-align: right;\">\n",
       "      <th></th>\n",
       "      <th>0</th>\n",
       "    </tr>\n",
       "  </thead>\n",
       "  <tbody>\n",
       "    <tr>\n",
       "      <th>artist</th>\n",
       "      <td>110828</td>\n",
       "    </tr>\n",
       "    <tr>\n",
       "      <th>auth</th>\n",
       "      <td>0</td>\n",
       "    </tr>\n",
       "    <tr>\n",
       "      <th>firstName</th>\n",
       "      <td>15700</td>\n",
       "    </tr>\n",
       "    <tr>\n",
       "      <th>gender</th>\n",
       "      <td>15700</td>\n",
       "    </tr>\n",
       "    <tr>\n",
       "      <th>itemInSession</th>\n",
       "      <td>0</td>\n",
       "    </tr>\n",
       "    <tr>\n",
       "      <th>lastName</th>\n",
       "      <td>15700</td>\n",
       "    </tr>\n",
       "    <tr>\n",
       "      <th>length</th>\n",
       "      <td>110828</td>\n",
       "    </tr>\n",
       "    <tr>\n",
       "      <th>level</th>\n",
       "      <td>0</td>\n",
       "    </tr>\n",
       "    <tr>\n",
       "      <th>location</th>\n",
       "      <td>15700</td>\n",
       "    </tr>\n",
       "    <tr>\n",
       "      <th>method</th>\n",
       "      <td>0</td>\n",
       "    </tr>\n",
       "    <tr>\n",
       "      <th>page</th>\n",
       "      <td>0</td>\n",
       "    </tr>\n",
       "    <tr>\n",
       "      <th>registration</th>\n",
       "      <td>15700</td>\n",
       "    </tr>\n",
       "    <tr>\n",
       "      <th>sessionId</th>\n",
       "      <td>0</td>\n",
       "    </tr>\n",
       "    <tr>\n",
       "      <th>song</th>\n",
       "      <td>110828</td>\n",
       "    </tr>\n",
       "    <tr>\n",
       "      <th>status</th>\n",
       "      <td>0</td>\n",
       "    </tr>\n",
       "    <tr>\n",
       "      <th>ts</th>\n",
       "      <td>0</td>\n",
       "    </tr>\n",
       "    <tr>\n",
       "      <th>userAgent</th>\n",
       "      <td>15700</td>\n",
       "    </tr>\n",
       "    <tr>\n",
       "      <th>userId</th>\n",
       "      <td>0</td>\n",
       "    </tr>\n",
       "  </tbody>\n",
       "</table>\n",
       "</div>"
      ],
      "text/plain": [
       "                    0\n",
       "artist         110828\n",
       "auth                0\n",
       "firstName       15700\n",
       "gender          15700\n",
       "itemInSession       0\n",
       "lastName        15700\n",
       "length         110828\n",
       "level               0\n",
       "location        15700\n",
       "method              0\n",
       "page                0\n",
       "registration    15700\n",
       "sessionId           0\n",
       "song           110828\n",
       "status              0\n",
       "ts                  0\n",
       "userAgent       15700\n",
       "userId              0"
      ]
     },
     "execution_count": 19,
     "metadata": {},
     "output_type": "execute_result"
    }
   ],
   "source": [
    "df.select([F.sum(F.col(c).isNull().cast('int')).alias(c) for c in df.columns]).toPandas().T"
   ]
  },
  {
   "cell_type": "markdown",
   "metadata": {},
   "source": [
    "There is no null value in the data frame but there are missing values in `userId`, disguising as empty strings `\"\"`."
   ]
  },
  {
   "cell_type": "code",
   "execution_count": 20,
   "metadata": {
    "scrolled": true
   },
   "outputs": [
    {
     "name": "stdout",
     "output_type": "stream",
     "text": [
      "+------+----+\n",
      "|userId|page|\n",
      "+------+----+\n",
      "| 15700|   0|\n",
      "+------+----+\n",
      "\n"
     ]
    }
   ],
   "source": [
    "df.select([F.sum((F.col(c) == \"\").cast('int')).alias(c) for c in ['userId', 'page']]).show()"
   ]
  },
  {
   "cell_type": "markdown",
   "metadata": {},
   "source": [
    "Note that events without `userId` happen when users are either not logged in or not registered. Thus, they can not interact with Sparkify's key features and we can safely drop these events."
   ]
  },
  {
   "cell_type": "code",
   "execution_count": 21,
   "metadata": {
    "scrolled": true
   },
   "outputs": [
    {
     "name": "stdout",
     "output_type": "stream",
     "text": [
      "+-------------------+-----+\n",
      "|               page|count|\n",
      "+-------------------+-----+\n",
      "|               Home| 8323|\n",
      "|              Login| 6011|\n",
      "|              About|  829|\n",
      "|               Help|  506|\n",
      "|              Error|   16|\n",
      "|           Register|   11|\n",
      "|Submit Registration|    4|\n",
      "+-------------------+-----+\n",
      "\n"
     ]
    }
   ],
   "source": [
    "df.filter(df.userId == \"\").groupBy([\"page\"]).count().orderBy(\"count\", ascending=False).show(n=30)"
   ]
  },
  {
   "cell_type": "code",
   "execution_count": 22,
   "metadata": {},
   "outputs": [],
   "source": [
    "def clean_data(df):\n",
    "    \"\"\"Remove missing values in `userId` and convert it to integer values\"\"\"\n",
    "    return df.filter(df.userId != \"\").withColumn(\"userId\", df[\"userId\"].cast(IntegerType())) \\"
   ]
  },
  {
   "cell_type": "code",
   "execution_count": 23,
   "metadata": {},
   "outputs": [],
   "source": [
    "clean_df = clean_data(df).persist(StorageLevel.MEMORY_ONLY)"
   ]
  },
  {
   "cell_type": "code",
   "execution_count": 24,
   "metadata": {
    "scrolled": false
   },
   "outputs": [
    {
     "name": "stdout",
     "output_type": "stream",
     "text": [
      "+------+----+\n",
      "|userId|page|\n",
      "+------+----+\n",
      "|  null|   0|\n",
      "+------+----+\n",
      "\n"
     ]
    }
   ],
   "source": [
    "clean_df.select([F.sum((F.col(c) == \"\").cast('int')).alias(c) for c in ['userId', 'page']]).show()"
   ]
  },
  {
   "cell_type": "code",
   "execution_count": 25,
   "metadata": {
    "scrolled": true
   },
   "outputs": [
    {
     "data": {
      "text/html": [
       "<div>\n",
       "<style scoped>\n",
       "    .dataframe tbody tr th:only-of-type {\n",
       "        vertical-align: middle;\n",
       "    }\n",
       "\n",
       "    .dataframe tbody tr th {\n",
       "        vertical-align: top;\n",
       "    }\n",
       "\n",
       "    .dataframe thead th {\n",
       "        text-align: right;\n",
       "    }\n",
       "</style>\n",
       "<table border=\"1\" class=\"dataframe\">\n",
       "  <thead>\n",
       "    <tr style=\"text-align: right;\">\n",
       "      <th></th>\n",
       "      <th>artist</th>\n",
       "      <th>auth</th>\n",
       "      <th>firstName</th>\n",
       "      <th>gender</th>\n",
       "      <th>itemInSession</th>\n",
       "      <th>lastName</th>\n",
       "      <th>length</th>\n",
       "      <th>level</th>\n",
       "      <th>location</th>\n",
       "      <th>method</th>\n",
       "      <th>page</th>\n",
       "      <th>registration</th>\n",
       "      <th>sessionId</th>\n",
       "      <th>song</th>\n",
       "      <th>status</th>\n",
       "      <th>ts</th>\n",
       "      <th>userAgent</th>\n",
       "      <th>userId</th>\n",
       "    </tr>\n",
       "  </thead>\n",
       "  <tbody>\n",
       "    <tr>\n",
       "      <th>0</th>\n",
       "      <td>95128</td>\n",
       "      <td>0</td>\n",
       "      <td>0</td>\n",
       "      <td>0</td>\n",
       "      <td>0</td>\n",
       "      <td>0</td>\n",
       "      <td>95128</td>\n",
       "      <td>0</td>\n",
       "      <td>0</td>\n",
       "      <td>0</td>\n",
       "      <td>0</td>\n",
       "      <td>0</td>\n",
       "      <td>0</td>\n",
       "      <td>95128</td>\n",
       "      <td>0</td>\n",
       "      <td>0</td>\n",
       "      <td>0</td>\n",
       "      <td>0</td>\n",
       "    </tr>\n",
       "  </tbody>\n",
       "</table>\n",
       "</div>"
      ],
      "text/plain": [
       "   artist  auth  firstName  gender  itemInSession  lastName  length  level  \\\n",
       "0   95128     0          0       0              0         0   95128      0   \n",
       "\n",
       "   location  method  page  registration  sessionId   song  status  ts  \\\n",
       "0         0       0     0             0          0  95128       0   0   \n",
       "\n",
       "   userAgent  userId  \n",
       "0          0       0  "
      ]
     },
     "execution_count": 25,
     "metadata": {},
     "output_type": "execute_result"
    }
   ],
   "source": [
    "clean_df.select([F.sum(F.col(c).isNull().cast('int')).alias(c) for c in df.columns]).toPandas()"
   ]
  },
  {
   "cell_type": "markdown",
   "metadata": {},
   "source": [
    "We can double check that `artist`, `length` and `song` is null missing if and only if `page` is not `NextSong`"
   ]
  },
  {
   "cell_type": "code",
   "execution_count": 26,
   "metadata": {},
   "outputs": [
    {
     "name": "stdout",
     "output_type": "stream",
     "text": [
      "+------+------+----+\n",
      "|artist|length|song|\n",
      "+------+------+----+\n",
      "|     0|     0|   0|\n",
      "+------+------+----+\n",
      "\n"
     ]
    }
   ],
   "source": [
    "clean_df.filter(df.page == \"NextSong\") \\\n",
    "    .select([F.sum(F.col(c).isNull().cast('int')).alias(c) for c in [\"artist\", \"length\", \"song\"]]) \\\n",
    "    .show()"
   ]
  },
  {
   "cell_type": "code",
   "execution_count": 27,
   "metadata": {},
   "outputs": [
    {
     "name": "stdout",
     "output_type": "stream",
     "text": [
      "+------+------+-----+\n",
      "|artist|length| song|\n",
      "+------+------+-----+\n",
      "| 95128| 95128|95128|\n",
      "+------+------+-----+\n",
      "\n"
     ]
    }
   ],
   "source": [
    "clean_df.filter(df.page != \"NextSong\") \\\n",
    "    .select([F.sum(F.col(c).isNull().cast('int')).alias(c) for c in [\"artist\", \"length\", \"song\"]]) \\\n",
    "    .show()"
   ]
  },
  {
   "cell_type": "markdown",
   "metadata": {},
   "source": [
    "# Exploratory Data Analysis\n",
    "\n",
    "### Define Churn\n",
    "\n",
    "Observe that the number of `Downgrade` and `Upgrade` events are much larger than the total number of `userId` in the dataset. We can guess that is the page where users can choose to `Downgrade` or `Upgrade` their tier, not the actual action to `Downgrade` or `Upgrade`.\n"
   ]
  },
  {
   "cell_type": "code",
   "execution_count": 28,
   "metadata": {},
   "outputs": [
    {
     "name": "stdout",
     "output_type": "stream",
     "text": [
      "+--------------------+------+\n",
      "|                page| count|\n",
      "+--------------------+------+\n",
      "|            NextSong|432877|\n",
      "|           Thumbs Up| 23826|\n",
      "|                Home| 19089|\n",
      "|     Add to Playlist| 12349|\n",
      "|          Add Friend|  8087|\n",
      "|         Roll Advert|  7773|\n",
      "|              Logout|  5990|\n",
      "|         Thumbs Down|  4911|\n",
      "|           Downgrade|  3811|\n",
      "|            Settings|  2964|\n",
      "|                Help|  2644|\n",
      "|               About|  1026|\n",
      "|             Upgrade|   968|\n",
      "|       Save Settings|   585|\n",
      "|               Error|   503|\n",
      "|      Submit Upgrade|   287|\n",
      "|    Submit Downgrade|   117|\n",
      "|              Cancel|    99|\n",
      "|Cancellation Conf...|    99|\n",
      "+--------------------+------+\n",
      "\n"
     ]
    }
   ],
   "source": [
    "clean_df.groupBy([\"page\"]).count().orderBy(\"count\", ascending=False).show(n=30)"
   ]
  },
  {
   "cell_type": "markdown",
   "metadata": {},
   "source": [
    "Here, we shall define Churn as the `Cancel` page. Let's mark all rows with `userId` who has at least 1 `Cancel` page as Churn."
   ]
  },
  {
   "cell_type": "code",
   "execution_count": 29,
   "metadata": {},
   "outputs": [],
   "source": [
    "def define_churn(df):\n",
    "    \"\"\"Add a column indicating Churn users to the data frame\"\"\"\n",
    "    # Create a data frame indicating which user is churner\n",
    "    churner_df = df.groupby(\"userId\") \\\n",
    "                    .agg(\n",
    "                        F.when(\n",
    "                            F.sum(\n",
    "                                (\n",
    "                                    F.col(\"page\")\n",
    "                                        .isin([\"Cancel\", \"Cancellation Confirmation\"])\n",
    "                                ).cast(\"int\")\n",
    "                            ) >= 1, 1\n",
    "                        ).otherwise(0) \\\n",
    "                            .alias(\"Churn\")\n",
    "                    )\n",
    "    # Merge churn column to the original data frame\n",
    "    df = df.join(churner_df, on='userId')\n",
    "    return df"
   ]
  },
  {
   "cell_type": "code",
   "execution_count": 30,
   "metadata": {},
   "outputs": [
    {
     "data": {
      "text/plain": [
       "[Row(userId=293, artist='Martin Orford', auth='Logged In', firstName='Joseph', gender='M', itemInSession=20, lastName='Morales', length=597.55057, level='free', location='Corpus Christi, TX', method='PUT', page='NextSong', registration=1532063507000, sessionId=292, song='Grand Designs', status=200, ts=1538352011000, userAgent='\"Mozilla/5.0 (Macintosh; Intel Mac OS X 10_9_4) AppleWebKit/537.36 (KHTML, like Gecko) Chrome/36.0.1985.125 Safari/537.36\"', Churn=1),\n",
       " Row(userId=98, artist=\"John Brown's Body\", auth='Logged In', firstName='Sawyer', gender='M', itemInSession=74, lastName='Larson', length=380.21179, level='free', location='Houston-The Woodlands-Sugar Land, TX', method='PUT', page='NextSong', registration=1538069638000, sessionId=97, song='Bulls', status=200, ts=1538352025000, userAgent='\"Mozilla/5.0 (Macintosh; Intel Mac OS X 10_9_4) AppleWebKit/537.36 (KHTML, like Gecko) Chrome/36.0.1985.143 Safari/537.36\"', Churn=0),\n",
       " Row(userId=179, artist='Afroman', auth='Logged In', firstName='Maverick', gender='M', itemInSession=184, lastName='Santiago', length=202.37016, level='paid', location='Orlando-Kissimmee-Sanford, FL', method='PUT', page='NextSong', registration=1535953455000, sessionId=178, song='Because I Got High', status=200, ts=1538352118000, userAgent='\"Mozilla/5.0 (Macintosh; Intel Mac OS X 10_9_4) AppleWebKit/537.36 (KHTML, like Gecko) Chrome/36.0.1985.143 Safari/537.36\"', Churn=0),\n",
       " Row(userId=179, artist=None, auth='Logged In', firstName='Maverick', gender='M', itemInSession=185, lastName='Santiago', length=None, level='paid', location='Orlando-Kissimmee-Sanford, FL', method='PUT', page='Logout', registration=1535953455000, sessionId=178, song=None, status=307, ts=1538352119000, userAgent='\"Mozilla/5.0 (Macintosh; Intel Mac OS X 10_9_4) AppleWebKit/537.36 (KHTML, like Gecko) Chrome/36.0.1985.143 Safari/537.36\"', Churn=0),\n",
       " Row(userId=246, artist='Lily Allen', auth='Logged In', firstName='Gianna', gender='F', itemInSession=22, lastName='Campos', length=194.53342, level='paid', location='Mobile, AL', method='PUT', page='NextSong', registration=1535931018000, sessionId=245, song='Smile (Radio Edit)', status=200, ts=1538352124000, userAgent='Mozilla/5.0 (Windows NT 6.1; WOW64; rv:31.0) Gecko/20100101 Firefox/31.0', Churn=1)]"
      ]
     },
     "execution_count": 30,
     "metadata": {},
     "output_type": "execute_result"
    }
   ],
   "source": [
    "labeled_df = define_churn(clean_df).persist(StorageLevel.MEMORY_ONLY)\n",
    "labeled_df.take(5)"
   ]
  },
  {
   "cell_type": "markdown",
   "metadata": {},
   "source": [
    "### Explore Data"
   ]
  },
  {
   "cell_type": "markdown",
   "metadata": {},
   "source": [
    "First, let's take a look at some simple distributions"
   ]
  },
  {
   "cell_type": "code",
   "execution_count": 31,
   "metadata": {},
   "outputs": [
    {
     "name": "stdout",
     "output_type": "stream",
     "text": [
      "Distribution of events by churn users\n",
      "+-----+----------------+\n",
      "|Churn|Number of events|\n",
      "+-----+----------------+\n",
      "|    1|          103646|\n",
      "|    0|          424359|\n",
      "+-----+----------------+\n",
      "\n"
     ]
    }
   ],
   "source": [
    "print(\"Distribution of events by churn users\")\n",
    "labeled_df.groupBy(\"Churn\").agg(F.count(\"Churn\").alias(\"Number of events\")).show()"
   ]
  },
  {
   "cell_type": "code",
   "execution_count": 32,
   "metadata": {},
   "outputs": [
    {
     "name": "stdout",
     "output_type": "stream",
     "text": [
      "Distribution of churn users\n",
      "+-----+---------------+\n",
      "|Churn|Number of users|\n",
      "+-----+---------------+\n",
      "|  0.0|            349|\n",
      "|  1.0|             99|\n",
      "+-----+---------------+\n",
      "\n"
     ]
    }
   ],
   "source": [
    "print(\"Distribution of churn users\")\n",
    "labeled_df.groupBy(\"userId\") \\\n",
    "    .agg(\n",
    "        F.mean(\"Churn\").alias(\"Churn\")\n",
    "    ) \\\n",
    "    .groupBy(\"Churn\") \\\n",
    "    .agg(\n",
    "        F.count(\"Churn\").alias(\"Number of users\")\n",
    "    ) \\\n",
    "    .show()"
   ]
  },
  {
   "cell_type": "code",
   "execution_count": 33,
   "metadata": {},
   "outputs": [
    {
     "data": {
      "text/html": [
       "<div>\n",
       "<style scoped>\n",
       "    .dataframe tbody tr th:only-of-type {\n",
       "        vertical-align: middle;\n",
       "    }\n",
       "\n",
       "    .dataframe tbody tr th {\n",
       "        vertical-align: top;\n",
       "    }\n",
       "\n",
       "    .dataframe thead th {\n",
       "        text-align: right;\n",
       "    }\n",
       "</style>\n",
       "<table border=\"1\" class=\"dataframe\">\n",
       "  <thead>\n",
       "    <tr style=\"text-align: right;\">\n",
       "      <th></th>\n",
       "      <th>userId</th>\n",
       "      <th>Churn</th>\n",
       "      <th>count</th>\n",
       "    </tr>\n",
       "  </thead>\n",
       "  <tbody>\n",
       "    <tr>\n",
       "      <th>0</th>\n",
       "      <td>200013</td>\n",
       "      <td>1</td>\n",
       "      <td>223</td>\n",
       "    </tr>\n",
       "    <tr>\n",
       "      <th>1</th>\n",
       "      <td>118</td>\n",
       "      <td>1</td>\n",
       "      <td>2623</td>\n",
       "    </tr>\n",
       "    <tr>\n",
       "      <th>2</th>\n",
       "      <td>30</td>\n",
       "      <td>0</td>\n",
       "      <td>4737</td>\n",
       "    </tr>\n",
       "    <tr>\n",
       "      <th>3</th>\n",
       "      <td>141</td>\n",
       "      <td>0</td>\n",
       "      <td>332</td>\n",
       "    </tr>\n",
       "    <tr>\n",
       "      <th>4</th>\n",
       "      <td>300031</td>\n",
       "      <td>0</td>\n",
       "      <td>4194</td>\n",
       "    </tr>\n",
       "  </tbody>\n",
       "</table>\n",
       "</div>"
      ],
      "text/plain": [
       "   userId  Churn  count\n",
       "0  200013      1    223\n",
       "1     118      1   2623\n",
       "2      30      0   4737\n",
       "3     141      0    332\n",
       "4  300031      0   4194"
      ]
     },
     "execution_count": 33,
     "metadata": {},
     "output_type": "execute_result"
    }
   ],
   "source": [
    "event_per_user = labeled_df.groupBy([\"userId\", \"Churn\"]).count().toPandas()\n",
    "event_per_user.head()"
   ]
  },
  {
   "cell_type": "code",
   "execution_count": 34,
   "metadata": {},
   "outputs": [
    {
     "data": {
      "text/plain": [
       "Text(0.5, 1.0, 'Distribution of total number of events per user')"
      ]
     },
     "execution_count": 34,
     "metadata": {},
     "output_type": "execute_result"
    },
    {
     "data": {
      "image/png": "[encoded data removed]",
      "text/plain": [
       "<Figure size 432x288 with 1 Axes>"
      ]
     },
     "metadata": {
      "needs_background": "light"
     },
     "output_type": "display_data"
    }
   ],
   "source": [
    "ax = sns.boxplot(x=\"Churn\", y=\"count\", data=event_per_user)\n",
    "ax.set(ylabel=\"Number of events\")\n",
    "ax.set_title(\"Distribution of total number of events per user\")"
   ]
  },
  {
   "cell_type": "markdown",
   "metadata": {},
   "source": [
    "We can see that the churn rate is around $99\\ /\\ 448 \\approx 22\\%$ and churners have slightly less interactions."
   ]
  },
  {
   "cell_type": "markdown",
   "metadata": {},
   "source": [
    "Next, some more complex distributions with timestamps"
   ]
  },
  {
   "cell_type": "code",
   "execution_count": 35,
   "metadata": {
    "scrolled": false
   },
   "outputs": [
    {
     "data": {
      "text/html": [
       "<div>\n",
       "<style scoped>\n",
       "    .dataframe tbody tr th:only-of-type {\n",
       "        vertical-align: middle;\n",
       "    }\n",
       "\n",
       "    .dataframe tbody tr th {\n",
       "        vertical-align: top;\n",
       "    }\n",
       "\n",
       "    .dataframe thead th {\n",
       "        text-align: right;\n",
       "    }\n",
       "</style>\n",
       "<table border=\"1\" class=\"dataframe\">\n",
       "  <thead>\n",
       "    <tr style=\"text-align: right;\">\n",
       "      <th></th>\n",
       "      <th>userId</th>\n",
       "      <th>Churn</th>\n",
       "      <th>min(ts)</th>\n",
       "    </tr>\n",
       "  </thead>\n",
       "  <tbody>\n",
       "    <tr>\n",
       "      <th>0</th>\n",
       "      <td>200013</td>\n",
       "      <td>1</td>\n",
       "      <td>1539673406000</td>\n",
       "    </tr>\n",
       "    <tr>\n",
       "      <th>1</th>\n",
       "      <td>118</td>\n",
       "      <td>1</td>\n",
       "      <td>1538507009000</td>\n",
       "    </tr>\n",
       "    <tr>\n",
       "      <th>2</th>\n",
       "      <td>30</td>\n",
       "      <td>0</td>\n",
       "      <td>1538530561000</td>\n",
       "    </tr>\n",
       "    <tr>\n",
       "      <th>3</th>\n",
       "      <td>141</td>\n",
       "      <td>0</td>\n",
       "      <td>1539010202000</td>\n",
       "    </tr>\n",
       "    <tr>\n",
       "      <th>4</th>\n",
       "      <td>300031</td>\n",
       "      <td>0</td>\n",
       "      <td>1538532769000</td>\n",
       "    </tr>\n",
       "  </tbody>\n",
       "</table>\n",
       "</div>"
      ],
      "text/plain": [
       "   userId  Churn        min(ts)\n",
       "0  200013      1  1539673406000\n",
       "1     118      1  1538507009000\n",
       "2      30      0  1538530561000\n",
       "3     141      0  1539010202000\n",
       "4  300031      0  1538532769000"
      ]
     },
     "execution_count": 35,
     "metadata": {},
     "output_type": "execute_result"
    }
   ],
   "source": [
    "user_registration = labeled_df.groupBy([\"userId\", \"Churn\"]).min(\"ts\").toPandas()\n",
    "user_registration.head()"
   ]
  },
  {
   "cell_type": "code",
   "execution_count": 36,
   "metadata": {
    "scrolled": true
   },
   "outputs": [
    {
     "data": {
      "text/plain": [
       "Text(0.5, 1.0, 'Distribution of registration time per user')"
      ]
     },
     "execution_count": 36,
     "metadata": {},
     "output_type": "execute_result"
    },
    {
     "data": {
      "image/png": "[encoded data removed]",
      "text/plain": [
       "<Figure size 432x288 with 1 Axes>"
      ]
     },
     "metadata": {
      "needs_background": "light"
     },
     "output_type": "display_data"
    }
   ],
   "source": [
    "ax = sns.boxplot(x=\"Churn\", y=\"min(ts)\", data=user_registration)\n",
    "ax.set(ylabel=\"Registration timestamp\")\n",
    "ax.set_title(\"Distribution of registration time per user\")"
   ]
  },
  {
   "cell_type": "code",
   "execution_count": 37,
   "metadata": {
    "scrolled": false
   },
   "outputs": [
    {
     "data": {
      "text/html": [
       "<div>\n",
       "<style scoped>\n",
       "    .dataframe tbody tr th:only-of-type {\n",
       "        vertical-align: middle;\n",
       "    }\n",
       "\n",
       "    .dataframe tbody tr th {\n",
       "        vertical-align: top;\n",
       "    }\n",
       "\n",
       "    .dataframe thead th {\n",
       "        text-align: right;\n",
       "    }\n",
       "</style>\n",
       "<table border=\"1\" class=\"dataframe\">\n",
       "  <thead>\n",
       "    <tr style=\"text-align: right;\">\n",
       "      <th></th>\n",
       "      <th>userId</th>\n",
       "      <th>Churn</th>\n",
       "      <th>max(ts)</th>\n",
       "    </tr>\n",
       "  </thead>\n",
       "  <tbody>\n",
       "    <tr>\n",
       "      <th>0</th>\n",
       "      <td>200013</td>\n",
       "      <td>1</td>\n",
       "      <td>1541408793000</td>\n",
       "    </tr>\n",
       "    <tr>\n",
       "      <th>1</th>\n",
       "      <td>118</td>\n",
       "      <td>1</td>\n",
       "      <td>1543091855000</td>\n",
       "    </tr>\n",
       "    <tr>\n",
       "      <th>2</th>\n",
       "      <td>30</td>\n",
       "      <td>0</td>\n",
       "      <td>1543566273000</td>\n",
       "    </tr>\n",
       "    <tr>\n",
       "      <th>3</th>\n",
       "      <td>141</td>\n",
       "      <td>0</td>\n",
       "      <td>1543462064000</td>\n",
       "    </tr>\n",
       "    <tr>\n",
       "      <th>4</th>\n",
       "      <td>300031</td>\n",
       "      <td>0</td>\n",
       "      <td>1543592994000</td>\n",
       "    </tr>\n",
       "  </tbody>\n",
       "</table>\n",
       "</div>"
      ],
      "text/plain": [
       "   userId  Churn        max(ts)\n",
       "0  200013      1  1541408793000\n",
       "1     118      1  1543091855000\n",
       "2      30      0  1543566273000\n",
       "3     141      0  1543462064000\n",
       "4  300031      0  1543592994000"
      ]
     },
     "execution_count": 37,
     "metadata": {},
     "output_type": "execute_result"
    }
   ],
   "source": [
    "last_interaction = labeled_df.groupBy([\"userId\", \"Churn\"]).max(\"ts\").toPandas()\n",
    "last_interaction.head()"
   ]
  },
  {
   "cell_type": "code",
   "execution_count": 38,
   "metadata": {
    "scrolled": true
   },
   "outputs": [
    {
     "data": {
      "text/plain": [
       "Text(0.5, 1.0, 'Distribution of last interaction per user')"
      ]
     },
     "execution_count": 38,
     "metadata": {},
     "output_type": "execute_result"
    },
    {
     "data": {
      "image/png": "[encoded data removed]",
      "text/plain": [
       "<Figure size 432x288 with 1 Axes>"
      ]
     },
     "metadata": {
      "needs_background": "light"
     },
     "output_type": "display_data"
    }
   ],
   "source": [
    "ax = sns.boxplot(x=\"Churn\", y=\"max(ts)\", data=last_interaction)\n",
    "ax.set(ylabel=\"Last interation timestamp\")\n",
    "ax.set_title(\"Distribution of last interaction per user\")"
   ]
  },
  {
   "cell_type": "code",
   "execution_count": 39,
   "metadata": {
    "scrolled": false
   },
   "outputs": [
    {
     "data": {
      "text/html": [
       "<div>\n",
       "<style scoped>\n",
       "    .dataframe tbody tr th:only-of-type {\n",
       "        vertical-align: middle;\n",
       "    }\n",
       "\n",
       "    .dataframe tbody tr th {\n",
       "        vertical-align: top;\n",
       "    }\n",
       "\n",
       "    .dataframe thead th {\n",
       "        text-align: right;\n",
       "    }\n",
       "</style>\n",
       "<table border=\"1\" class=\"dataframe\">\n",
       "  <thead>\n",
       "    <tr style=\"text-align: right;\">\n",
       "      <th></th>\n",
       "      <th>userId</th>\n",
       "      <th>Churn</th>\n",
       "      <th>(max(ts) - min(ts))</th>\n",
       "    </tr>\n",
       "  </thead>\n",
       "  <tbody>\n",
       "    <tr>\n",
       "      <th>0</th>\n",
       "      <td>200013</td>\n",
       "      <td>1</td>\n",
       "      <td>1735387000</td>\n",
       "    </tr>\n",
       "    <tr>\n",
       "      <th>1</th>\n",
       "      <td>118</td>\n",
       "      <td>1</td>\n",
       "      <td>4584846000</td>\n",
       "    </tr>\n",
       "    <tr>\n",
       "      <th>2</th>\n",
       "      <td>30</td>\n",
       "      <td>0</td>\n",
       "      <td>5035712000</td>\n",
       "    </tr>\n",
       "    <tr>\n",
       "      <th>3</th>\n",
       "      <td>141</td>\n",
       "      <td>0</td>\n",
       "      <td>4451862000</td>\n",
       "    </tr>\n",
       "    <tr>\n",
       "      <th>4</th>\n",
       "      <td>300031</td>\n",
       "      <td>0</td>\n",
       "      <td>5060225000</td>\n",
       "    </tr>\n",
       "  </tbody>\n",
       "</table>\n",
       "</div>"
      ],
      "text/plain": [
       "   userId  Churn  (max(ts) - min(ts))\n",
       "0  200013      1           1735387000\n",
       "1     118      1           4584846000\n",
       "2      30      0           5035712000\n",
       "3     141      0           4451862000\n",
       "4  300031      0           5060225000"
      ]
     },
     "execution_count": 39,
     "metadata": {},
     "output_type": "execute_result"
    }
   ],
   "source": [
    "user_lifetime = labeled_df.groupBy([\"userId\", \"Churn\"]).agg(F.max(labeled_df.ts) - F.min(labeled_df.ts)).toPandas()\n",
    "user_lifetime.head()"
   ]
  },
  {
   "cell_type": "code",
   "execution_count": 40,
   "metadata": {
    "scrolled": true
   },
   "outputs": [
    {
     "data": {
      "text/plain": [
       "Text(0.5, 1.0, 'Distribution of user lifetime')"
      ]
     },
     "execution_count": 40,
     "metadata": {},
     "output_type": "execute_result"
    },
    {
     "data": {
      "image/png": "[encoded data removed]",
      "text/plain": [
       "<Figure size 432x288 with 1 Axes>"
      ]
     },
     "metadata": {
      "needs_background": "light"
     },
     "output_type": "display_data"
    }
   ],
   "source": [
    "ax = sns.boxplot(x=\"Churn\", y=\"(max(ts) - min(ts))\", data=user_lifetime)\n",
    "ax.set(ylabel=\"User lifetime\")\n",
    "ax.set_title(\"Distribution of user lifetime\")"
   ]
  },
  {
   "cell_type": "markdown",
   "metadata": {},
   "source": [
    "`Last interaction` and `User lifetime` clearly distinguish the two user groups."
   ]
  },
  {
   "cell_type": "code",
   "execution_count": 41,
   "metadata": {
    "scrolled": false
   },
   "outputs": [
    {
     "data": {
      "text/html": [
       "<div>\n",
       "<style scoped>\n",
       "    .dataframe tbody tr th:only-of-type {\n",
       "        vertical-align: middle;\n",
       "    }\n",
       "\n",
       "    .dataframe tbody tr th {\n",
       "        vertical-align: top;\n",
       "    }\n",
       "\n",
       "    .dataframe thead th {\n",
       "        text-align: right;\n",
       "    }\n",
       "</style>\n",
       "<table border=\"1\" class=\"dataframe\">\n",
       "  <thead>\n",
       "    <tr style=\"text-align: right;\">\n",
       "      <th></th>\n",
       "      <th>userId</th>\n",
       "      <th>Churn</th>\n",
       "      <th>(count(userId) / (max(ts) - min(ts)))</th>\n",
       "    </tr>\n",
       "  </thead>\n",
       "  <tbody>\n",
       "    <tr>\n",
       "      <th>0</th>\n",
       "      <td>200013</td>\n",
       "      <td>1</td>\n",
       "      <td>1.285016e-07</td>\n",
       "    </tr>\n",
       "    <tr>\n",
       "      <th>1</th>\n",
       "      <td>118</td>\n",
       "      <td>1</td>\n",
       "      <td>5.721021e-07</td>\n",
       "    </tr>\n",
       "    <tr>\n",
       "      <th>2</th>\n",
       "      <td>30</td>\n",
       "      <td>0</td>\n",
       "      <td>9.406813e-07</td>\n",
       "    </tr>\n",
       "    <tr>\n",
       "      <th>3</th>\n",
       "      <td>141</td>\n",
       "      <td>0</td>\n",
       "      <td>7.457554e-08</td>\n",
       "    </tr>\n",
       "    <tr>\n",
       "      <th>4</th>\n",
       "      <td>300031</td>\n",
       "      <td>0</td>\n",
       "      <td>8.288169e-07</td>\n",
       "    </tr>\n",
       "  </tbody>\n",
       "</table>\n",
       "</div>"
      ],
      "text/plain": [
       "   userId  Churn  (count(userId) / (max(ts) - min(ts)))\n",
       "0  200013      1                           1.285016e-07\n",
       "1     118      1                           5.721021e-07\n",
       "2      30      0                           9.406813e-07\n",
       "3     141      0                           7.457554e-08\n",
       "4  300031      0                           8.288169e-07"
      ]
     },
     "execution_count": 41,
     "metadata": {},
     "output_type": "execute_result"
    }
   ],
   "source": [
    "user_engagement = labeled_df.groupBy([\"userId\", \"Churn\"]).agg(F.count(labeled_df.userId) / (F.max(labeled_df.ts) - F.min(labeled_df.ts))).toPandas()\n",
    "user_engagement.head()"
   ]
  },
  {
   "cell_type": "code",
   "execution_count": 42,
   "metadata": {},
   "outputs": [
    {
     "data": {
      "text/plain": [
       "Text(0.5, 1.0, 'Distribution of average interaction per user')"
      ]
     },
     "execution_count": 42,
     "metadata": {},
     "output_type": "execute_result"
    },
    {
     "data": {
      "image/png": "[encoded data removed]",
      "text/plain": [
       "<Figure size 432x288 with 1 Axes>"
      ]
     },
     "metadata": {
      "needs_background": "light"
     },
     "output_type": "display_data"
    }
   ],
   "source": [
    "ax = sns.boxplot(x=\"Churn\", y=\"(count(userId) / (max(ts) - min(ts)))\", data=user_engagement)\n",
    "ax.set(ylabel=\"Average interaction\")\n",
    "ax.set_title(\"Distribution of average interaction per user\")"
   ]
  },
  {
   "cell_type": "markdown",
   "metadata": {},
   "source": [
    "Surprisingly, churn users are actually more engaging during their user lifetime.\n",
    "\n",
    "Next, we will plot some graphs related to `level`. Note that we consider a user `paid` tier if he/she has at least one event with `level` `paid`."
   ]
  },
  {
   "cell_type": "code",
   "execution_count": 43,
   "metadata": {},
   "outputs": [
    {
     "data": {
      "text/html": [
       "<div>\n",
       "<style scoped>\n",
       "    .dataframe tbody tr th:only-of-type {\n",
       "        vertical-align: middle;\n",
       "    }\n",
       "\n",
       "    .dataframe tbody tr th {\n",
       "        vertical-align: top;\n",
       "    }\n",
       "\n",
       "    .dataframe thead th {\n",
       "        text-align: right;\n",
       "    }\n",
       "</style>\n",
       "<table border=\"1\" class=\"dataframe\">\n",
       "  <thead>\n",
       "    <tr style=\"text-align: right;\">\n",
       "      <th></th>\n",
       "      <th>userId</th>\n",
       "      <th>Churn</th>\n",
       "      <th>Paid</th>\n",
       "    </tr>\n",
       "  </thead>\n",
       "  <tbody>\n",
       "    <tr>\n",
       "      <th>0</th>\n",
       "      <td>200013</td>\n",
       "      <td>1</td>\n",
       "      <td>1</td>\n",
       "    </tr>\n",
       "    <tr>\n",
       "      <th>1</th>\n",
       "      <td>118</td>\n",
       "      <td>1</td>\n",
       "      <td>1</td>\n",
       "    </tr>\n",
       "    <tr>\n",
       "      <th>2</th>\n",
       "      <td>30</td>\n",
       "      <td>0</td>\n",
       "      <td>1</td>\n",
       "    </tr>\n",
       "    <tr>\n",
       "      <th>3</th>\n",
       "      <td>141</td>\n",
       "      <td>0</td>\n",
       "      <td>1</td>\n",
       "    </tr>\n",
       "    <tr>\n",
       "      <th>4</th>\n",
       "      <td>300031</td>\n",
       "      <td>0</td>\n",
       "      <td>1</td>\n",
       "    </tr>\n",
       "  </tbody>\n",
       "</table>\n",
       "</div>"
      ],
      "text/plain": [
       "   userId  Churn  Paid\n",
       "0  200013      1     1\n",
       "1     118      1     1\n",
       "2      30      0     1\n",
       "3     141      0     1\n",
       "4  300031      0     1"
      ]
     },
     "execution_count": 43,
     "metadata": {},
     "output_type": "execute_result"
    }
   ],
   "source": [
    "user_level = labeled_df \\\n",
    "    .groupBy([\"userId\", \"Churn\", \"level\"]) \\\n",
    "    .count() \\\n",
    "    .groupBy([\"userId\", \"Churn\"]) \\\n",
    "    .agg(\n",
    "        F.sum(\n",
    "            (\n",
    "                F.col(\"level\") == \"paid\"\n",
    "            ).cast(\"int\")\n",
    "        ).alias(\"Paid\")\n",
    "    ).toPandas()\n",
    "user_level.head()"
   ]
  },
  {
   "cell_type": "code",
   "execution_count": 44,
   "metadata": {},
   "outputs": [
    {
     "data": {
      "text/plain": [
       "Text(0.5, 1.0, 'Distribution of paid user')"
      ]
     },
     "execution_count": 44,
     "metadata": {},
     "output_type": "execute_result"
    },
    {
     "data": {
      "image/png": "[encoded data removed]",
      "text/plain": [
       "<Figure size 432x288 with 1 Axes>"
      ]
     },
     "metadata": {
      "needs_background": "light"
     },
     "output_type": "display_data"
    }
   ],
   "source": [
    "ax = sns.countplot(x=\"Churn\", hue=\"Paid\", data=user_level)\n",
    "ax.set_title(\"Distribution of paid user\")"
   ]
  },
  {
   "cell_type": "markdown",
   "metadata": {},
   "source": [
    "Finally, we will check the distribution of `page`."
   ]
  },
  {
   "cell_type": "code",
   "execution_count": 45,
   "metadata": {
    "scrolled": true
   },
   "outputs": [
    {
     "data": {
      "text/html": [
       "<div>\n",
       "<style scoped>\n",
       "    .dataframe tbody tr th:only-of-type {\n",
       "        vertical-align: middle;\n",
       "    }\n",
       "\n",
       "    .dataframe tbody tr th {\n",
       "        vertical-align: top;\n",
       "    }\n",
       "\n",
       "    .dataframe thead th {\n",
       "        text-align: right;\n",
       "    }\n",
       "</style>\n",
       "<table border=\"1\" class=\"dataframe\">\n",
       "  <thead>\n",
       "    <tr style=\"text-align: right;\">\n",
       "      <th></th>\n",
       "      <th>page</th>\n",
       "      <th>Churn</th>\n",
       "      <th>count</th>\n",
       "    </tr>\n",
       "  </thead>\n",
       "  <tbody>\n",
       "    <tr>\n",
       "      <th>0</th>\n",
       "      <td>Thumbs Up</td>\n",
       "      <td>0</td>\n",
       "      <td>19526</td>\n",
       "    </tr>\n",
       "    <tr>\n",
       "      <th>1</th>\n",
       "      <td>Upgrade</td>\n",
       "      <td>0</td>\n",
       "      <td>731</td>\n",
       "    </tr>\n",
       "    <tr>\n",
       "      <th>2</th>\n",
       "      <td>Logout</td>\n",
       "      <td>0</td>\n",
       "      <td>4806</td>\n",
       "    </tr>\n",
       "    <tr>\n",
       "      <th>3</th>\n",
       "      <td>Upgrade</td>\n",
       "      <td>1</td>\n",
       "      <td>237</td>\n",
       "    </tr>\n",
       "    <tr>\n",
       "      <th>4</th>\n",
       "      <td>Add Friend</td>\n",
       "      <td>1</td>\n",
       "      <td>1537</td>\n",
       "    </tr>\n",
       "  </tbody>\n",
       "</table>\n",
       "</div>"
      ],
      "text/plain": [
       "         page  Churn  count\n",
       "0   Thumbs Up      0  19526\n",
       "1     Upgrade      0    731\n",
       "2      Logout      0   4806\n",
       "3     Upgrade      1    237\n",
       "4  Add Friend      1   1537"
      ]
     },
     "execution_count": 45,
     "metadata": {},
     "output_type": "execute_result"
    }
   ],
   "source": [
    "total_interactions = labeled_df.groupBy([\"page\", \"Churn\"]).count().toPandas()\n",
    "total_interactions.head()"
   ]
  },
  {
   "cell_type": "code",
   "execution_count": 46,
   "metadata": {
    "scrolled": false
   },
   "outputs": [
    {
     "data": {
      "text/plain": [
       "Text(0.5, 1.0, 'Distribution of page')"
      ]
     },
     "execution_count": 46,
     "metadata": {},
     "output_type": "execute_result"
    },
    {
     "data": {
      "image/png": "[encoded data removed]",
      "text/plain": [
       "<Figure size 720x720 with 1 Axes>"
      ]
     },
     "metadata": {
      "needs_background": "light"
     },
     "output_type": "display_data"
    }
   ],
   "source": [
    "fig, ax = plt.subplots(figsize=(10, 10))\n",
    "ax = sns.barplot(x=\"count\", y=\"page\", hue=\"Churn\", data=total_interactions, orient=\"h\", ax=ax)\n",
    "ax.set_title(\"Distribution of page\")"
   ]
  },
  {
   "cell_type": "markdown",
   "metadata": {},
   "source": [
    "However, there is a discrepancy between the total number of interactions of churn users and that of non-churn users. We will take the percentage of interaction per user groups instead."
   ]
  },
  {
   "cell_type": "code",
   "execution_count": 47,
   "metadata": {
    "scrolled": true
   },
   "outputs": [
    {
     "data": {
      "text/html": [
       "<div>\n",
       "<style scoped>\n",
       "    .dataframe tbody tr th:only-of-type {\n",
       "        vertical-align: middle;\n",
       "    }\n",
       "\n",
       "    .dataframe tbody tr th {\n",
       "        vertical-align: top;\n",
       "    }\n",
       "\n",
       "    .dataframe thead th {\n",
       "        text-align: right;\n",
       "    }\n",
       "</style>\n",
       "<table border=\"1\" class=\"dataframe\">\n",
       "  <thead>\n",
       "    <tr style=\"text-align: right;\">\n",
       "      <th></th>\n",
       "      <th>page</th>\n",
       "      <th>Churn</th>\n",
       "      <th>count_x</th>\n",
       "      <th>count_y</th>\n",
       "    </tr>\n",
       "  </thead>\n",
       "  <tbody>\n",
       "    <tr>\n",
       "      <th>0</th>\n",
       "      <td>Thumbs Up</td>\n",
       "      <td>0</td>\n",
       "      <td>4.601293</td>\n",
       "      <td>424359</td>\n",
       "    </tr>\n",
       "    <tr>\n",
       "      <th>1</th>\n",
       "      <td>Upgrade</td>\n",
       "      <td>0</td>\n",
       "      <td>0.172260</td>\n",
       "      <td>424359</td>\n",
       "    </tr>\n",
       "    <tr>\n",
       "      <th>2</th>\n",
       "      <td>Logout</td>\n",
       "      <td>0</td>\n",
       "      <td>1.132532</td>\n",
       "      <td>424359</td>\n",
       "    </tr>\n",
       "    <tr>\n",
       "      <th>3</th>\n",
       "      <td>NextSong</td>\n",
       "      <td>0</td>\n",
       "      <td>82.128104</td>\n",
       "      <td>424359</td>\n",
       "    </tr>\n",
       "    <tr>\n",
       "      <th>4</th>\n",
       "      <td>Submit Upgrade</td>\n",
       "      <td>0</td>\n",
       "      <td>0.051136</td>\n",
       "      <td>424359</td>\n",
       "    </tr>\n",
       "  </tbody>\n",
       "</table>\n",
       "</div>"
      ],
      "text/plain": [
       "             page  Churn    count_x  count_y\n",
       "0       Thumbs Up      0   4.601293   424359\n",
       "1         Upgrade      0   0.172260   424359\n",
       "2          Logout      0   1.132532   424359\n",
       "3        NextSong      0  82.128104   424359\n",
       "4  Submit Upgrade      0   0.051136   424359"
      ]
     },
     "execution_count": 47,
     "metadata": {},
     "output_type": "execute_result"
    }
   ],
   "source": [
    "sum_interactions = labeled_df.groupBy(\"Churn\").count().toPandas()\n",
    "percentage_interactions = total_interactions.merge(sum_interactions, on=\"Churn\")\n",
    "percentage_interactions.count_x = percentage_interactions.count_x / percentage_interactions.count_y * 100.\n",
    "percentage_interactions.head()"
   ]
  },
  {
   "cell_type": "code",
   "execution_count": 48,
   "metadata": {},
   "outputs": [
    {
     "data": {
      "text/plain": [
       "[Text(0, 0.5, 'Page'), Text(0.5, 0, 'Percentage')]"
      ]
     },
     "execution_count": 48,
     "metadata": {},
     "output_type": "execute_result"
    },
    {
     "data": {
      "image/png": "[encoded data removed]",
      "text/plain": [
       "<Figure size 720x720 with 1 Axes>"
      ]
     },
     "metadata": {
      "needs_background": "light"
     },
     "output_type": "display_data"
    }
   ],
   "source": [
    "fig, ax = plt.subplots(figsize=(10, 10))\n",
    "ax = sns.barplot(x=\"count_x\", y=\"page\", hue=\"Churn\", data=percentage_interactions, orient=\"h\", ax=ax)\n",
    "ax.set_title(\"Distribution of percentage of page\")\n",
    "ax.set(xlabel=\"Percentage\", ylabel=\"Page\")"
   ]
  },
  {
   "cell_type": "markdown",
   "metadata": {},
   "source": [
    "We can see that, on average, churn users have less `Thumbs Up`, less `NextSong`, less `Add to Playlist`, more `Home`, more `Thumbs Down`, more `Roll Advert` and more `Downgrade`."
   ]
  },
  {
   "cell_type": "markdown",
   "metadata": {},
   "source": [
    "# Feature Engineering\n",
    "For the next step, we will finish up a pipeline to process and extract features from the data. For each user, we would like to extract the following features:\n",
    "- Total number of interactions\n",
    "- Registration timestamp\n",
    "- Last interaction timestamp\n",
    "- User lifetime\n",
    "- Average interations during lifetime\n",
    "- Level (1 as paid and 0 as free)\n",
    "- Percentage of Thumbs Up\n",
    "- Percentage of Thumbs Down\n",
    "- Percentage of Home\n",
    "- Percentage of NextSong\n",
    "- Percentage of Add to Playlist\n",
    "- Percentage of Roll Advert\n",
    "- Percentage of Downgrade"
   ]
  },
  {
   "cell_type": "code",
   "execution_count": 49,
   "metadata": {},
   "outputs": [],
   "source": [
    "def extract_page_percentage(df, page_type):\n",
    "    \"\"\"Extract the percentage of a given page type for each user\"\"\"\n",
    "    return df.groupBy(\"userId\").agg(F.count(\"userId\").alias(\"count_x\")).join(\n",
    "            df.groupBy([\"userId\", \"page\"]).count().filter(F.col(\"page\") == page_type).drop(\"page\"),\n",
    "            \"userId\"\n",
    "        ) \\\n",
    "        .withColumn(\"Percentage of \" + page_type, F.col(\"count\") / F.col(\"count_x\") * 100.) \\\n",
    "        .drop(\"count_x\", \"count\")"
   ]
  },
  {
   "cell_type": "code",
   "execution_count": 50,
   "metadata": {},
   "outputs": [],
   "source": [
    "def extract_features(df):\n",
    "    \"\"\"Extract relevant features from the dataset:\n",
    "        - Total number of interactions\n",
    "        - Registration timestamp\n",
    "        - Last interaction timestamp\n",
    "        - User lifetime\n",
    "        - Average interations during lifetime\n",
    "        - Level (1 as paid and 0 as free)\n",
    "        - Percentage of Thumbs Up\n",
    "        - Percentage of Thumbs Down\n",
    "        - Percentage of Home\n",
    "        - Percentage of NextSong\n",
    "        - Percentage of Add to Playlist\n",
    "        - Percentage of Roll Advert\n",
    "        - Percentage of Downgrade\n",
    "    \"\"\"\n",
    "    \n",
    "    return df \\\n",
    "        .groupBy([\"userId\", \"Churn\"]) \\\n",
    "        .agg(\n",
    "            F.count(\"userId\")                                            .alias(\"Total number of interactions\"),\n",
    "            F.min(\"ts\")                                                  .alias(\"Registration timestamp\"),\n",
    "            F.max(\"ts\")                                                  .alias(\"Last interaction timestamp\"),\n",
    "            (F.max(\"ts\") - F.min(\"ts\"))                                  .alias(\"User lifetime\"),\n",
    "            (F.count(\"userId\") / (F.max(\"ts\") - F.min(\"ts\")))            .alias(\"Average interations during lifetime\"),\n",
    "            F.when(\n",
    "                F.sum((F.col(\"level\") == \"paid\").cast(\"int\")) >= 1, 1\n",
    "            ).otherwise(0)                                               .alias(\"Level\"),\n",
    "        ) \\\n",
    "        .join(extract_page_percentage(df, \"Thumbs Up\")      , \"userId\", \"left\") \\\n",
    "        .join(extract_page_percentage(df, \"Thumbs Down\")    , \"userId\", \"left\") \\\n",
    "        .join(extract_page_percentage(df, \"Home\")           , \"userId\", \"left\") \\\n",
    "        .join(extract_page_percentage(df, \"NextSong\")       , \"userId\", \"left\") \\\n",
    "        .join(extract_page_percentage(df, \"Add to Playlist\"), \"userId\", \"left\") \\\n",
    "        .join(extract_page_percentage(df, \"Roll Advert\")    , \"userId\", \"left\") \\\n",
    "        .join(extract_page_percentage(df, \"Downgrade\")      , \"userId\", \"left\") \\\n",
    "        .na.fill(0)"
   ]
  },
  {
   "cell_type": "code",
   "execution_count": 51,
   "metadata": {
    "scrolled": true
   },
   "outputs": [
    {
     "data": {
      "text/plain": [
       "[Row(userId=148, Churn=0, Total number of interactions=399, Registration timestamp=1538805488000, Last interaction timestamp=1543502996000, User lifetime=4697508000, Average interations during lifetime=8.493865257919732e-08, Level=0, Percentage of Thumbs Up=2.506265664160401, Percentage of Thumbs Down=1.0025062656641603, Percentage of Home=5.012531328320802, Percentage of NextSong=76.94235588972431, Percentage of Add to Playlist=3.258145363408521, Percentage of Roll Advert=7.017543859649122, Percentage of Downgrade=0.0),\n",
       " Row(userId=200049, Churn=0, Total number of interactions=35, Registration timestamp=1539615102000, Last interaction timestamp=1541860729000, User lifetime=2245627000, Average interations during lifetime=1.5585847516083482e-08, Level=0, Percentage of Thumbs Up=8.571428571428571, Percentage of Thumbs Down=8.571428571428571, Percentage of Home=2.857142857142857, Percentage of NextSong=74.28571428571429, Percentage of Add to Playlist=0.0, Percentage of Roll Advert=5.714285714285714, Percentage of Downgrade=0.0),\n",
       " Row(userId=300040, Churn=0, Total number of interactions=664, Registration timestamp=1538755115000, Last interaction timestamp=1543586189000, User lifetime=4831074000, Average interations during lifetime=1.3744355809908936e-07, Level=1, Percentage of Thumbs Up=7.83132530120482, Percentage of Thumbs Down=1.5060240963855422, Percentage of Home=2.86144578313253, Percentage of NextSong=78.91566265060241, Percentage of Add to Playlist=1.6566265060240966, Percentage of Roll Advert=3.463855421686747, Percentage of Downgrade=0.0),\n",
       " Row(userId=85, Churn=1, Total number of interactions=2696, Registration timestamp=1538388789000, Last interaction timestamp=1543570037000, User lifetime=5181248000, Average interations during lifetime=5.203379571871487e-07, Level=1, Percentage of Thumbs Up=4.302670623145401, Percentage of Thumbs Down=1.2240356083086052, Percentage of Home=3.857566765578635, Percentage of NextSong=82.45548961424333, Percentage of Add to Playlist=1.9287833827893175, Percentage of Roll Advert=1.1498516320474776, Percentage of Downgrade=0.8160237388724036),\n",
       " Row(userId=137, Churn=0, Total number of interactions=53, Registration timestamp=1538415721000, Last interaction timestamp=1538427487000, User lifetime=11766000, Average interations during lifetime=4.504504504504505e-06, Level=0, Percentage of Thumbs Up=3.7735849056603774, Percentage of Thumbs Down=0.0, Percentage of Home=0.0, Percentage of NextSong=92.45283018867924, Percentage of Add to Playlist=1.8867924528301887, Percentage of Roll Advert=1.8867924528301887, Percentage of Downgrade=0.0)]"
      ]
     },
     "execution_count": 51,
     "metadata": {},
     "output_type": "execute_result"
    }
   ],
   "source": [
    "extracted_df = extract_features(labeled_df).persist(StorageLevel.MEMORY_ONLY)\n",
    "extracted_df.take(5)"
   ]
  },
  {
   "cell_type": "markdown",
   "metadata": {},
   "source": [
    "Let's print some details to check if our function has extracted features correctly"
   ]
  },
  {
   "cell_type": "code",
   "execution_count": 52,
   "metadata": {},
   "outputs": [
    {
     "data": {
      "text/plain": [
       "448"
      ]
     },
     "execution_count": 52,
     "metadata": {},
     "output_type": "execute_result"
    }
   ],
   "source": [
    "extracted_df.count()"
   ]
  },
  {
   "cell_type": "code",
   "execution_count": 53,
   "metadata": {},
   "outputs": [
    {
     "name": "stdout",
     "output_type": "stream",
     "text": [
      "root\n",
      " |-- userId: integer (nullable = true)\n",
      " |-- Churn: integer (nullable = false)\n",
      " |-- Total number of interactions: long (nullable = false)\n",
      " |-- Registration timestamp: long (nullable = true)\n",
      " |-- Last interaction timestamp: long (nullable = true)\n",
      " |-- User lifetime: long (nullable = true)\n",
      " |-- Average interations during lifetime: double (nullable = false)\n",
      " |-- Level: integer (nullable = false)\n",
      " |-- Percentage of Thumbs Up: double (nullable = false)\n",
      " |-- Percentage of Thumbs Down: double (nullable = false)\n",
      " |-- Percentage of Home: double (nullable = false)\n",
      " |-- Percentage of NextSong: double (nullable = false)\n",
      " |-- Percentage of Add to Playlist: double (nullable = false)\n",
      " |-- Percentage of Roll Advert: double (nullable = false)\n",
      " |-- Percentage of Downgrade: double (nullable = false)\n",
      "\n"
     ]
    }
   ],
   "source": [
    "extracted_df.printSchema()"
   ]
  },
  {
   "cell_type": "code",
   "execution_count": 54,
   "metadata": {},
   "outputs": [
    {
     "data": {
      "text/html": [
       "<div>\n",
       "<style scoped>\n",
       "    .dataframe tbody tr th:only-of-type {\n",
       "        vertical-align: middle;\n",
       "    }\n",
       "\n",
       "    .dataframe tbody tr th {\n",
       "        vertical-align: top;\n",
       "    }\n",
       "\n",
       "    .dataframe thead th {\n",
       "        text-align: right;\n",
       "    }\n",
       "</style>\n",
       "<table border=\"1\" class=\"dataframe\">\n",
       "  <thead>\n",
       "    <tr style=\"text-align: right;\">\n",
       "      <th></th>\n",
       "      <th>userId</th>\n",
       "      <th>Churn</th>\n",
       "      <th>Total number of interactions</th>\n",
       "      <th>Registration timestamp</th>\n",
       "      <th>Last interaction timestamp</th>\n",
       "      <th>User lifetime</th>\n",
       "      <th>Average interations during lifetime</th>\n",
       "      <th>Level</th>\n",
       "      <th>Percentage of Thumbs Up</th>\n",
       "      <th>Percentage of Thumbs Down</th>\n",
       "      <th>Percentage of Home</th>\n",
       "      <th>Percentage of NextSong</th>\n",
       "      <th>Percentage of Add to Playlist</th>\n",
       "      <th>Percentage of Roll Advert</th>\n",
       "      <th>Percentage of Downgrade</th>\n",
       "    </tr>\n",
       "  </thead>\n",
       "  <tbody>\n",
       "    <tr>\n",
       "      <th>0</th>\n",
       "      <td>0</td>\n",
       "      <td>0</td>\n",
       "      <td>0</td>\n",
       "      <td>0</td>\n",
       "      <td>0</td>\n",
       "      <td>0</td>\n",
       "      <td>0</td>\n",
       "      <td>0</td>\n",
       "      <td>0</td>\n",
       "      <td>0</td>\n",
       "      <td>0</td>\n",
       "      <td>0</td>\n",
       "      <td>0</td>\n",
       "      <td>0</td>\n",
       "      <td>0</td>\n",
       "    </tr>\n",
       "  </tbody>\n",
       "</table>\n",
       "</div>"
      ],
      "text/plain": [
       "   userId  Churn  Total number of interactions  Registration timestamp  \\\n",
       "0       0      0                             0                       0   \n",
       "\n",
       "   Last interaction timestamp  User lifetime  \\\n",
       "0                           0              0   \n",
       "\n",
       "   Average interations during lifetime  Level  Percentage of Thumbs Up  \\\n",
       "0                                    0      0                        0   \n",
       "\n",
       "   Percentage of Thumbs Down  Percentage of Home  Percentage of NextSong  \\\n",
       "0                          0                   0                       0   \n",
       "\n",
       "   Percentage of Add to Playlist  Percentage of Roll Advert  \\\n",
       "0                              0                          0   \n",
       "\n",
       "   Percentage of Downgrade  \n",
       "0                        0  "
      ]
     },
     "execution_count": 54,
     "metadata": {},
     "output_type": "execute_result"
    }
   ],
   "source": [
    "extracted_df.select([F.sum(F.col(c).isNull().cast('int')).alias(c) for c in extracted_df.columns]).toPandas()"
   ]
  },
  {
   "cell_type": "code",
   "execution_count": 55,
   "metadata": {},
   "outputs": [
    {
     "data": {
      "text/html": [
       "<div>\n",
       "<style scoped>\n",
       "    .dataframe tbody tr th:only-of-type {\n",
       "        vertical-align: middle;\n",
       "    }\n",
       "\n",
       "    .dataframe tbody tr th {\n",
       "        vertical-align: top;\n",
       "    }\n",
       "\n",
       "    .dataframe thead th {\n",
       "        text-align: right;\n",
       "    }\n",
       "</style>\n",
       "<table border=\"1\" class=\"dataframe\">\n",
       "  <thead>\n",
       "    <tr style=\"text-align: right;\">\n",
       "      <th></th>\n",
       "      <th>userId</th>\n",
       "      <th>Churn</th>\n",
       "      <th>Total number of interactions</th>\n",
       "      <th>Registration timestamp</th>\n",
       "      <th>Last interaction timestamp</th>\n",
       "      <th>User lifetime</th>\n",
       "      <th>Average interations during lifetime</th>\n",
       "      <th>Level</th>\n",
       "      <th>Percentage of Thumbs Up</th>\n",
       "      <th>Percentage of Thumbs Down</th>\n",
       "      <th>Percentage of Home</th>\n",
       "      <th>Percentage of NextSong</th>\n",
       "      <th>Percentage of Add to Playlist</th>\n",
       "      <th>Percentage of Roll Advert</th>\n",
       "      <th>Percentage of Downgrade</th>\n",
       "    </tr>\n",
       "  </thead>\n",
       "  <tbody>\n",
       "    <tr>\n",
       "      <th>0</th>\n",
       "      <td>2</td>\n",
       "      <td>0</td>\n",
       "      <td>3</td>\n",
       "      <td>1538352011000</td>\n",
       "      <td>1538400616000</td>\n",
       "      <td>790000</td>\n",
       "      <td>9.365398e-09</td>\n",
       "      <td>0</td>\n",
       "      <td>0.0</td>\n",
       "      <td>0.0</td>\n",
       "      <td>0.0</td>\n",
       "      <td>33.333333</td>\n",
       "      <td>0.0</td>\n",
       "      <td>0.0</td>\n",
       "      <td>0.0</td>\n",
       "    </tr>\n",
       "  </tbody>\n",
       "</table>\n",
       "</div>"
      ],
      "text/plain": [
       "   userId  Churn  Total number of interactions  Registration timestamp  \\\n",
       "0       2      0                             3           1538352011000   \n",
       "\n",
       "   Last interaction timestamp  User lifetime  \\\n",
       "0               1538400616000         790000   \n",
       "\n",
       "   Average interations during lifetime  Level  Percentage of Thumbs Up  \\\n",
       "0                         9.365398e-09      0                      0.0   \n",
       "\n",
       "   Percentage of Thumbs Down  Percentage of Home  Percentage of NextSong  \\\n",
       "0                        0.0                 0.0               33.333333   \n",
       "\n",
       "   Percentage of Add to Playlist  Percentage of Roll Advert  \\\n",
       "0                            0.0                        0.0   \n",
       "\n",
       "   Percentage of Downgrade  \n",
       "0                      0.0  "
      ]
     },
     "execution_count": 55,
     "metadata": {},
     "output_type": "execute_result"
    }
   ],
   "source": [
    "extracted_df.select([F.min(c).alias(c) for c in extracted_df.columns]).toPandas()"
   ]
  },
  {
   "cell_type": "code",
   "execution_count": 56,
   "metadata": {},
   "outputs": [
    {
     "data": {
      "text/html": [
       "<div>\n",
       "<style scoped>\n",
       "    .dataframe tbody tr th:only-of-type {\n",
       "        vertical-align: middle;\n",
       "    }\n",
       "\n",
       "    .dataframe tbody tr th {\n",
       "        vertical-align: top;\n",
       "    }\n",
       "\n",
       "    .dataframe thead th {\n",
       "        text-align: right;\n",
       "    }\n",
       "</style>\n",
       "<table border=\"1\" class=\"dataframe\">\n",
       "  <thead>\n",
       "    <tr style=\"text-align: right;\">\n",
       "      <th></th>\n",
       "      <th>userId</th>\n",
       "      <th>Churn</th>\n",
       "      <th>Total number of interactions</th>\n",
       "      <th>Registration timestamp</th>\n",
       "      <th>Last interaction timestamp</th>\n",
       "      <th>User lifetime</th>\n",
       "      <th>Average interations during lifetime</th>\n",
       "      <th>Level</th>\n",
       "      <th>Percentage of Thumbs Up</th>\n",
       "      <th>Percentage of Thumbs Down</th>\n",
       "      <th>Percentage of Home</th>\n",
       "      <th>Percentage of NextSong</th>\n",
       "      <th>Percentage of Add to Playlist</th>\n",
       "      <th>Percentage of Roll Advert</th>\n",
       "      <th>Percentage of Downgrade</th>\n",
       "    </tr>\n",
       "  </thead>\n",
       "  <tbody>\n",
       "    <tr>\n",
       "      <th>0</th>\n",
       "      <td>300051</td>\n",
       "      <td>1</td>\n",
       "      <td>9767</td>\n",
       "      <td>1543395736000</td>\n",
       "      <td>1543622466000</td>\n",
       "      <td>5270279000</td>\n",
       "      <td>0.000008</td>\n",
       "      <td>1</td>\n",
       "      <td>8.950617</td>\n",
       "      <td>22.222222</td>\n",
       "      <td>33.333333</td>\n",
       "      <td>96.0</td>\n",
       "      <td>6.451613</td>\n",
       "      <td>23.076923</td>\n",
       "      <td>2.73224</td>\n",
       "    </tr>\n",
       "  </tbody>\n",
       "</table>\n",
       "</div>"
      ],
      "text/plain": [
       "   userId  Churn  Total number of interactions  Registration timestamp  \\\n",
       "0  300051      1                          9767           1543395736000   \n",
       "\n",
       "   Last interaction timestamp  User lifetime  \\\n",
       "0               1543622466000     5270279000   \n",
       "\n",
       "   Average interations during lifetime  Level  Percentage of Thumbs Up  \\\n",
       "0                             0.000008      1                 8.950617   \n",
       "\n",
       "   Percentage of Thumbs Down  Percentage of Home  Percentage of NextSong  \\\n",
       "0                  22.222222           33.333333                    96.0   \n",
       "\n",
       "   Percentage of Add to Playlist  Percentage of Roll Advert  \\\n",
       "0                       6.451613                  23.076923   \n",
       "\n",
       "   Percentage of Downgrade  \n",
       "0                  2.73224  "
      ]
     },
     "execution_count": 56,
     "metadata": {},
     "output_type": "execute_result"
    }
   ],
   "source": [
    "extracted_df.select([F.max(c).alias(c) for c in extracted_df.columns]).toPandas()"
   ]
  },
  {
   "cell_type": "markdown",
   "metadata": {},
   "source": [
    "# Modeling\n",
    "Now, we will build a machine learning pipeline to perform logistic regression, random forest classification, and support vector machine on our extracted dataset."
   ]
  },
  {
   "cell_type": "code",
   "execution_count": 57,
   "metadata": {},
   "outputs": [],
   "source": [
    "def split_data(df, train_ratio=0.9):\n",
    "    \"\"\"Split the original dataset into train and test datasets\"\"\"\n",
    "    return df.randomSplit([train_ratio, 1-train_ratio], seed=42)"
   ]
  },
  {
   "cell_type": "code",
   "execution_count": 58,
   "metadata": {},
   "outputs": [],
   "source": [
    "selected_features = [\n",
    "    \"Total number of interactions\",\n",
    "    \"Registration timestamp\",\n",
    "    \"Last interaction timestamp\",\n",
    "    \"User lifetime\",\n",
    "    \"Average interations during lifetime\",\n",
    "    \"Level\",\n",
    "    \"Percentage of Thumbs Up\",\n",
    "    \"Percentage of Thumbs Down\",\n",
    "    \"Percentage of Home\",\n",
    "    \"Percentage of NextSong\",\n",
    "    \"Percentage of Add to Playlist\",\n",
    "    \"Percentage of Roll Advert\",\n",
    "    \"Percentage of Downgrade\"\n",
    "]"
   ]
  },
  {
   "cell_type": "code",
   "execution_count": 59,
   "metadata": {},
   "outputs": [],
   "source": [
    "def build_grid_search_cv(classifier, params):\n",
    "    \"\"\"Build a machine learning pipeline and grid search\"\"\"\n",
    "    # Assemble features\n",
    "    assembler = VectorAssembler(inputCols=selected_features, outputCol=\"features\")\n",
    "    \n",
    "    # Scale features\n",
    "    scaler = StandardScaler(inputCol=\"features\", outputCol=\"scaledFeatures\", withStd=True, withMean=True)\n",
    "    \n",
    "    pipeline = Pipeline(stages=[assembler, scaler, classifier])\n",
    "\n",
    "    crossval = CrossValidator(estimator=pipeline,\n",
    "                              estimatorParamMaps=params,\n",
    "                              evaluator=MulticlassClassificationEvaluator(metricName='f1', labelCol=\"Churn\"),\n",
    "                              numFolds=3)\n",
    "    return crossval"
   ]
  },
  {
   "cell_type": "code",
   "execution_count": 60,
   "metadata": {},
   "outputs": [],
   "source": [
    "train, test = split_data(extracted_df)"
   ]
  },
  {
   "cell_type": "code",
   "execution_count": 61,
   "metadata": {},
   "outputs": [],
   "source": [
    "# Random forest\n",
    "rf = RandomForestClassifier(featuresCol=\"scaledFeatures\", labelCol=\"Churn\")\n",
    "rf_cv = build_grid_search_cv(\n",
    "    rf,\n",
    "    ParamGridBuilder() \\\n",
    "        .addGrid(rf.maxDepth, [12, 30]) \\\n",
    "        .addGrid(rf.numTrees, [20, 100]) \\\n",
    "        .build()\n",
    ")\n",
    "rf_model = rf_cv.fit(train)"
   ]
  },
  {
   "cell_type": "code",
   "execution_count": 62,
   "metadata": {},
   "outputs": [],
   "source": [
    "# Logistic regression\n",
    "lr = LogisticRegression(featuresCol=\"scaledFeatures\", labelCol=\"Churn\")\n",
    "lr_cv = build_grid_search_cv(\n",
    "    lr,\n",
    "    ParamGridBuilder() \\\n",
    "        .addGrid(lr.regParam, [0.01, 0.1]) \\\n",
    "        .build()\n",
    ")\n",
    "lr_model = lr_cv.fit(train)"
   ]
  },
  {
   "cell_type": "code",
   "execution_count": 66,
   "metadata": {},
   "outputs": [
    {
     "name": "stdout",
     "output_type": "stream",
     "text": [
      "The best f1 scores are: \n",
      "Random forest: 0.8866945169299485\n",
      "Logistic regression: 0.8682321391735732\n"
     ]
    }
   ],
   "source": [
    "print(\"The best f1 scores are: \")\n",
    "print(\"Random forest:\", np.max(rf_model.avgMetrics))\n",
    "print(\"Logistic regression:\", np.max(lr_model.avgMetrics))"
   ]
  },
  {
   "cell_type": "code",
   "execution_count": 67,
   "metadata": {},
   "outputs": [
    {
     "name": "stdout",
     "output_type": "stream",
     "text": [
      "The best parameters are:\n",
      "Random forest: {Param(parent='RandomForestClassifier_c9aff355bb8b', name='maxDepth', doc='Maximum depth of the tree. (>= 0) E.g., depth 0 means 1 leaf node; depth 1 means 1 internal node + 2 leaf nodes.'): 12, Param(parent='RandomForestClassifier_c9aff355bb8b', name='numTrees', doc='Number of trees to train (>= 1).'): 100}\n",
      "Logistic regression: {Param(parent='LogisticRegression_3734b379bc0f', name='regParam', doc='regularization parameter (>= 0).'): 0.01}\n"
     ]
    }
   ],
   "source": [
    "print(\"The best parameters are:\")\n",
    "print(\"Random forest:\", rf_model.getEstimatorParamMaps()[np.argmax(rf_model.avgMetrics)])\n",
    "print(\"Logistic regression:\", lr_model.getEstimatorParamMaps()[np.argmax(lr_model.avgMetrics)])"
   ]
  },
  {
   "cell_type": "markdown",
   "metadata": {},
   "source": [
    "## Prediction"
   ]
  },
  {
   "cell_type": "code",
   "execution_count": 68,
   "metadata": {},
   "outputs": [],
   "source": [
    "def predict(model, verbose=False):\n",
    "    \"\"\"Predict the test dataset with the given model and print the result\"\"\"\n",
    "    prediction = model.transform(test)\n",
    "    test_accuracy = MulticlassClassificationEvaluator(labelCol=\"Churn\", metricName=\"accuracy\").evaluate(prediction)\n",
    "    test_f1 = MulticlassClassificationEvaluator(labelCol=\"Churn\", metricName=\"f1\").evaluate(prediction)\n",
    "    if verbose:\n",
    "        print(\"Predicted correctly\", prediction.filter(prediction.Churn == prediction.prediction).count(), \"out of\", prediction.count(), \"on test dataset\")\n",
    "        prediction.groupBy([\"Churn\", \"prediction\"]).count().show()\n",
    "    return test_f1, test_accuracy"
   ]
  },
  {
   "cell_type": "code",
   "execution_count": 69,
   "metadata": {},
   "outputs": [
    {
     "name": "stdout",
     "output_type": "stream",
     "text": [
      "Random forest:\n",
      "Predicted correctly 33 out of 36 on test dataset\n",
      "+-----+----------+-----+\n",
      "|Churn|prediction|count|\n",
      "+-----+----------+-----+\n",
      "|    1|       0.0|    3|\n",
      "|    0|       0.0|   26|\n",
      "|    1|       1.0|    7|\n",
      "+-----+----------+-----+\n",
      "\n"
     ]
    },
    {
     "data": {
      "text/plain": [
       "(0.9115864527629233, 0.9166666666666666)"
      ]
     },
     "execution_count": 69,
     "metadata": {},
     "output_type": "execute_result"
    }
   ],
   "source": [
    "print(\"Random forest:\")\n",
    "predict(rf_model.bestModel, verbose=True)"
   ]
  },
  {
   "cell_type": "code",
   "execution_count": 70,
   "metadata": {},
   "outputs": [
    {
     "name": "stdout",
     "output_type": "stream",
     "text": [
      "Logistic regression:\n",
      "Predicted correctly 33 out of 36 on test dataset\n",
      "+-----+----------+-----+\n",
      "|Churn|prediction|count|\n",
      "+-----+----------+-----+\n",
      "|    1|       0.0|    3|\n",
      "|    0|       0.0|   26|\n",
      "|    1|       1.0|    7|\n",
      "+-----+----------+-----+\n",
      "\n"
     ]
    },
    {
     "data": {
      "text/plain": [
       "(0.9115864527629233, 0.9166666666666666)"
      ]
     },
     "execution_count": 70,
     "metadata": {},
     "output_type": "execute_result"
    }
   ],
   "source": [
    "print(\"Logistic regression:\")\n",
    "predict(lr_model.bestModel, verbose=True)"
   ]
  },
  {
   "cell_type": "markdown",
   "metadata": {},
   "source": [
    "## Feature importance"
   ]
  },
  {
   "cell_type": "code",
   "execution_count": 71,
   "metadata": {},
   "outputs": [
    {
     "data": {
      "text/html": [
       "<div>\n",
       "<style scoped>\n",
       "    .dataframe tbody tr th:only-of-type {\n",
       "        vertical-align: middle;\n",
       "    }\n",
       "\n",
       "    .dataframe tbody tr th {\n",
       "        vertical-align: top;\n",
       "    }\n",
       "\n",
       "    .dataframe thead th {\n",
       "        text-align: right;\n",
       "    }\n",
       "</style>\n",
       "<table border=\"1\" class=\"dataframe\">\n",
       "  <thead>\n",
       "    <tr style=\"text-align: right;\">\n",
       "      <th></th>\n",
       "      <th>Feature importance</th>\n",
       "    </tr>\n",
       "  </thead>\n",
       "  <tbody>\n",
       "    <tr>\n",
       "      <th>Total number of interactions</th>\n",
       "      <td>0.080507</td>\n",
       "    </tr>\n",
       "    <tr>\n",
       "      <th>Registration timestamp</th>\n",
       "      <td>0.115205</td>\n",
       "    </tr>\n",
       "    <tr>\n",
       "      <th>Last interaction timestamp</th>\n",
       "      <td>0.251803</td>\n",
       "    </tr>\n",
       "    <tr>\n",
       "      <th>User lifetime</th>\n",
       "      <td>0.124585</td>\n",
       "    </tr>\n",
       "    <tr>\n",
       "      <th>Average interations during lifetime</th>\n",
       "      <td>0.109617</td>\n",
       "    </tr>\n",
       "    <tr>\n",
       "      <th>Level</th>\n",
       "      <td>0.003864</td>\n",
       "    </tr>\n",
       "    <tr>\n",
       "      <th>Percentage of Thumbs Up</th>\n",
       "      <td>0.042043</td>\n",
       "    </tr>\n",
       "    <tr>\n",
       "      <th>Percentage of Thumbs Down</th>\n",
       "      <td>0.051218</td>\n",
       "    </tr>\n",
       "    <tr>\n",
       "      <th>Percentage of Home</th>\n",
       "      <td>0.043494</td>\n",
       "    </tr>\n",
       "    <tr>\n",
       "      <th>Percentage of NextSong</th>\n",
       "      <td>0.033601</td>\n",
       "    </tr>\n",
       "    <tr>\n",
       "      <th>Percentage of Add to Playlist</th>\n",
       "      <td>0.040307</td>\n",
       "    </tr>\n",
       "    <tr>\n",
       "      <th>Percentage of Roll Advert</th>\n",
       "      <td>0.056706</td>\n",
       "    </tr>\n",
       "    <tr>\n",
       "      <th>Percentage of Downgrade</th>\n",
       "      <td>0.047049</td>\n",
       "    </tr>\n",
       "  </tbody>\n",
       "</table>\n",
       "</div>"
      ],
      "text/plain": [
       "                                     Feature importance\n",
       "Total number of interactions                   0.080507\n",
       "Registration timestamp                         0.115205\n",
       "Last interaction timestamp                     0.251803\n",
       "User lifetime                                  0.124585\n",
       "Average interations during lifetime            0.109617\n",
       "Level                                          0.003864\n",
       "Percentage of Thumbs Up                        0.042043\n",
       "Percentage of Thumbs Down                      0.051218\n",
       "Percentage of Home                             0.043494\n",
       "Percentage of NextSong                         0.033601\n",
       "Percentage of Add to Playlist                  0.040307\n",
       "Percentage of Roll Advert                      0.056706\n",
       "Percentage of Downgrade                        0.047049"
      ]
     },
     "execution_count": 71,
     "metadata": {},
     "output_type": "execute_result"
    }
   ],
   "source": [
    "pd.DataFrame(\n",
    "    index=selected_features, \n",
    "    columns=[\"Feature importance\"],\n",
    "    data=rf_model.bestModel.stages[-1].featureImportances.toArray().T,\n",
    ")"
   ]
  },
  {
   "cell_type": "markdown",
   "metadata": {},
   "source": [
    "##### "
   ]
  }
 ],
 "metadata": {
  "kernelspec": {
   "display_name": "Python 3.7 with Spark",
   "language": "python3",
   "name": "python37"
  },
  "language_info": {
   "codemirror_mode": {
    "name": "ipython",
    "version": 3
   },
   "file_extension": ".py",
   "mimetype": "text/x-python",
   "name": "python",
   "nbconvert_exporter": "python",
   "pygments_lexer": "ipython3",
   "version": "3.7.9"
  }
 },
 "nbformat": 4,
 "nbformat_minor": 1
}
